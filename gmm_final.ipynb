{
 "cells": [
  {
   "cell_type": "code",
   "execution_count": 1,
   "metadata": {},
   "outputs": [],
   "source": [
    "# Импорт библиотек и функций\n",
    "import pandas as pd\n",
    "import matplotlib.pyplot as plt\n",
    "import seaborn as sns\n",
    "from sklearn.mixture import GaussianMixture\n",
    "from sklearn.preprocessing import MinMaxScaler\n",
    "from function.create_map_ import create_map"
   ]
  },
  {
   "cell_type": "code",
   "execution_count": 3,
   "metadata": {},
   "outputs": [],
   "source": [
    "map_dict = {}\n",
    "for year in range(2015,2021):\n",
    "    read_str = 'data/summary_data/'+str(year)+'.csv'\n",
    "    data = pd.read_csv(read_str,index_col=0)\n",
    "    \n",
    "    scaler = MinMaxScaler()\n",
    "    X = data.drop(['Region'],axis=1)\n",
    "    scaler.fit(X)\n",
    "    Reg = pd.DataFrame(data['Region'])\n",
    "    col_names = X.columns\n",
    "    scaler_data = Reg.join(pd.DataFrame(scaler.transform(X),columns=col_names))\n",
    "    \n",
    "    X = scaler_data.drop(['Region'],axis=1)\n",
    "    \n",
    "    gm_clustering = GaussianMixture(n_components=3, random_state=42)\n",
    "    gm_clustering.fit(X)\n",
    "\n",
    "    gm_prediction = gm_clustering.predict(X)\n",
    "    scaler_data['prediction'] = gm_prediction\n",
    "    \n",
    "    llist = []\n",
    "    true_cluster = int(scaler_data.groupby('prediction',as_index=False).median().sort_values(by='cash_income').iloc[0]['prediction'])\n",
    "    for i in range(scaler_data.shape[0]):\n",
    "        if scaler_data['prediction'].loc[i] == true_cluster:\n",
    "            llist.append(scaler_data['Region'].loc[i])\n",
    "    \n",
    "    map_dict[year] = create_map(llist)"
   ]
  },
  {
   "cell_type": "code",
   "execution_count": 4,
   "metadata": {},
   "outputs": [
    {
     "name": "stdout",
     "output_type": "stream",
     "text": [
      "Кластер регионов, наиболее остро нуждающихся в помощи малообеспеченным за 2015 г.\n"
     ]
    },
    {
     "data": {
      "application/vnd.jupyter.widget-view+json": {
       "model_id": "201d229f7b3d4eb49c9c9504ee5ccf7c",
       "version_major": 2,
       "version_minor": 0
      },
      "text/plain": [
       "Map(center=[66.25, 94.15], controls=(ZoomControl(options=['position', 'zoom_in_text', 'zoom_in_title', 'zoom_o…"
      ]
     },
     "metadata": {},
     "output_type": "display_data"
    },
    {
     "name": "stdout",
     "output_type": "stream",
     "text": [
      "Кластер регионов, наиболее остро нуждающихся в помощи малообеспеченным за 2016 г.\n"
     ]
    },
    {
     "data": {
      "application/vnd.jupyter.widget-view+json": {
       "model_id": "aca8925d15284104abd3b9389eee0d22",
       "version_major": 2,
       "version_minor": 0
      },
      "text/plain": [
       "Map(center=[66.25, 94.15], controls=(ZoomControl(options=['position', 'zoom_in_text', 'zoom_in_title', 'zoom_o…"
      ]
     },
     "metadata": {},
     "output_type": "display_data"
    },
    {
     "name": "stdout",
     "output_type": "stream",
     "text": [
      "Кластер регионов, наиболее остро нуждающихся в помощи малообеспеченным за 2017 г.\n"
     ]
    },
    {
     "data": {
      "application/vnd.jupyter.widget-view+json": {
       "model_id": "b7b892211df943459d69edd80e034492",
       "version_major": 2,
       "version_minor": 0
      },
      "text/plain": [
       "Map(center=[66.25, 94.15], controls=(ZoomControl(options=['position', 'zoom_in_text', 'zoom_in_title', 'zoom_o…"
      ]
     },
     "metadata": {},
     "output_type": "display_data"
    },
    {
     "name": "stdout",
     "output_type": "stream",
     "text": [
      "Кластер регионов, наиболее остро нуждающихся в помощи малообеспеченным за 2018 г.\n"
     ]
    },
    {
     "data": {
      "application/vnd.jupyter.widget-view+json": {
       "model_id": "0785611fe21a47e3bedcd4908dd93359",
       "version_major": 2,
       "version_minor": 0
      },
      "text/plain": [
       "Map(center=[66.25, 94.15], controls=(ZoomControl(options=['position', 'zoom_in_text', 'zoom_in_title', 'zoom_o…"
      ]
     },
     "metadata": {},
     "output_type": "display_data"
    },
    {
     "name": "stdout",
     "output_type": "stream",
     "text": [
      "Кластер регионов, наиболее остро нуждающихся в помощи малообеспеченным за 2019 г.\n"
     ]
    },
    {
     "data": {
      "application/vnd.jupyter.widget-view+json": {
       "model_id": "b13fb01e85144a1aa13c757486b6440c",
       "version_major": 2,
       "version_minor": 0
      },
      "text/plain": [
       "Map(center=[66.25, 94.15], controls=(ZoomControl(options=['position', 'zoom_in_text', 'zoom_in_title', 'zoom_o…"
      ]
     },
     "metadata": {},
     "output_type": "display_data"
    },
    {
     "name": "stdout",
     "output_type": "stream",
     "text": [
      "Кластер регионов, наиболее остро нуждающихся в помощи малообеспеченным за 2020 г.\n"
     ]
    },
    {
     "data": {
      "application/vnd.jupyter.widget-view+json": {
       "model_id": "c4698dbd967e4ea6a883830cbfff580d",
       "version_major": 2,
       "version_minor": 0
      },
      "text/plain": [
       "Map(center=[66.25, 94.15], controls=(ZoomControl(options=['position', 'zoom_in_text', 'zoom_in_title', 'zoom_o…"
      ]
     },
     "metadata": {},
     "output_type": "display_data"
    }
   ],
   "source": [
    "for k,v in map_dict.items():\n",
    "    print(f'Кластер регионов, наиболее остро нуждающихся в помощи малообеспеченным за {k} г.')\n",
    "    display(v)"
   ]
  }
 ],
 "metadata": {
  "kernelspec": {
   "display_name": "Python 3",
   "language": "python",
   "name": "python3"
  },
  "language_info": {
   "codemirror_mode": {
    "name": "ipython",
    "version": 3
   },
   "file_extension": ".py",
   "mimetype": "text/x-python",
   "name": "python",
   "nbconvert_exporter": "python",
   "pygments_lexer": "ipython3",
   "version": "3.10.4"
  },
  "orig_nbformat": 4
 },
 "nbformat": 4,
 "nbformat_minor": 2
}
