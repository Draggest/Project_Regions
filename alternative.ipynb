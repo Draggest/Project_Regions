{
 "cells": [
  {
   "cell_type": "code",
   "execution_count": 1,
   "metadata": {},
   "outputs": [],
   "source": [
    "# Импорт библиотек\n",
    "import pandas as pd\n",
    "import matplotlib.pyplot as plt\n",
    "import seaborn as sns\n",
    "from sklearn.preprocessing import MinMaxScaler\n",
    "from sklearn.preprocessing import StandardScaler\n",
    "from function.create_map_2 import create_map_2"
   ]
  },
  {
   "cell_type": "code",
   "execution_count": 2,
   "metadata": {},
   "outputs": [],
   "source": [
    "map_dict = {}\n",
    "for year in range(2015,2021):\n",
    "    read_str = 'data/summary_data/'+str(year)+'.csv'\n",
    "    data = pd.read_csv(read_str,index_col=0)\n",
    "    \n",
    "    scaler = StandardScaler()\n",
    "    X = data.drop(['Region'],axis=1)\n",
    "    scaler.fit(X)\n",
    "    Reg = pd.DataFrame(data['Region'])\n",
    "    col_names = X.columns\n",
    "    scaler_data = Reg.join(pd.DataFrame(scaler.transform(X),columns=col_names))\n",
    "    \n",
    "    scaler_data['Rating'] = scaler_data['poverty_percent'] + scaler_data['welfare_expense_share'] + (1-scaler_data['cash_income'])\\\n",
    "    + (scaler_data['gross_regional_product'].max() - scaler_data['gross_regional_product']) + (scaler_data['regional_production'].max() - scaler_data['regional_production'])\\\n",
    "            + (scaler_data['retail_turnover_per_capita'].max() - scaler_data['retail_turnover_per_capita'])\n",
    "    \n",
    "    sorted_scaler_data = scaler_data.sort_values(by='Rating',ascending=False)\n",
    "    \n",
    "    \n",
    "    llist1 = []\n",
    "    llist2 = []\n",
    "    for i in range(10):\n",
    "            llist1.append(sorted_scaler_data['Region'].iloc[i])\n",
    "            llist2.append(sorted_scaler_data['Region'].iloc[i+10])\n",
    "    map_dict[year] = create_map_2(llist1,llist2)"
   ]
  },
  {
   "cell_type": "code",
   "execution_count": 3,
   "metadata": {},
   "outputs": [
    {
     "name": "stdout",
     "output_type": "stream",
     "text": [
      "Кластеры регионов, наиболее остро нуждающихся в помощи малообеспеченным за 2015 г.\n"
     ]
    },
    {
     "data": {
      "application/vnd.jupyter.widget-view+json": {
       "model_id": "d1cf19c9c4fd4b44b2cb0f5083364191",
       "version_major": 2,
       "version_minor": 0
      },
      "text/plain": [
       "Map(center=[66.25, 94.15], controls=(ZoomControl(options=['position', 'zoom_in_text', 'zoom_in_title', 'zoom_o…"
      ]
     },
     "metadata": {},
     "output_type": "display_data"
    },
    {
     "name": "stdout",
     "output_type": "stream",
     "text": [
      "Кластеры регионов, наиболее остро нуждающихся в помощи малообеспеченным за 2016 г.\n"
     ]
    },
    {
     "data": {
      "application/vnd.jupyter.widget-view+json": {
       "model_id": "612c2bfb2d164350b7ee813c18f4cbd1",
       "version_major": 2,
       "version_minor": 0
      },
      "text/plain": [
       "Map(center=[66.25, 94.15], controls=(ZoomControl(options=['position', 'zoom_in_text', 'zoom_in_title', 'zoom_o…"
      ]
     },
     "metadata": {},
     "output_type": "display_data"
    },
    {
     "name": "stdout",
     "output_type": "stream",
     "text": [
      "Кластеры регионов, наиболее остро нуждающихся в помощи малообеспеченным за 2017 г.\n"
     ]
    },
    {
     "data": {
      "application/vnd.jupyter.widget-view+json": {
       "model_id": "e662c33a1dca4cc1b0a86098b43fe9e2",
       "version_major": 2,
       "version_minor": 0
      },
      "text/plain": [
       "Map(center=[66.25, 94.15], controls=(ZoomControl(options=['position', 'zoom_in_text', 'zoom_in_title', 'zoom_o…"
      ]
     },
     "metadata": {},
     "output_type": "display_data"
    },
    {
     "name": "stdout",
     "output_type": "stream",
     "text": [
      "Кластеры регионов, наиболее остро нуждающихся в помощи малообеспеченным за 2018 г.\n"
     ]
    },
    {
     "data": {
      "application/vnd.jupyter.widget-view+json": {
       "model_id": "d0a9f3a2e6854f8786b0c9df0063fcc2",
       "version_major": 2,
       "version_minor": 0
      },
      "text/plain": [
       "Map(center=[66.25, 94.15], controls=(ZoomControl(options=['position', 'zoom_in_text', 'zoom_in_title', 'zoom_o…"
      ]
     },
     "metadata": {},
     "output_type": "display_data"
    },
    {
     "name": "stdout",
     "output_type": "stream",
     "text": [
      "Кластеры регионов, наиболее остро нуждающихся в помощи малообеспеченным за 2019 г.\n"
     ]
    },
    {
     "data": {
      "application/vnd.jupyter.widget-view+json": {
       "model_id": "9aacdd7578e94071ad320711a51a2cc1",
       "version_major": 2,
       "version_minor": 0
      },
      "text/plain": [
       "Map(center=[66.25, 94.15], controls=(ZoomControl(options=['position', 'zoom_in_text', 'zoom_in_title', 'zoom_o…"
      ]
     },
     "metadata": {},
     "output_type": "display_data"
    },
    {
     "name": "stdout",
     "output_type": "stream",
     "text": [
      "Кластеры регионов, наиболее остро нуждающихся в помощи малообеспеченным за 2020 г.\n"
     ]
    },
    {
     "data": {
      "application/vnd.jupyter.widget-view+json": {
       "model_id": "72a6d303b95b469485d55968ab652dc9",
       "version_major": 2,
       "version_minor": 0
      },
      "text/plain": [
       "Map(center=[66.25, 94.15], controls=(ZoomControl(options=['position', 'zoom_in_text', 'zoom_in_title', 'zoom_o…"
      ]
     },
     "metadata": {},
     "output_type": "display_data"
    }
   ],
   "source": [
    "for k,v in map_dict.items():\n",
    "    print(f'Кластеры регионов, наиболее остро нуждающихся в помощи малообеспеченным за {k} г.')\n",
    "    display(v)"
   ]
  }
 ],
 "metadata": {
  "kernelspec": {
   "display_name": "Python 3",
   "language": "python",
   "name": "python3"
  },
  "language_info": {
   "codemirror_mode": {
    "name": "ipython",
    "version": 3
   },
   "file_extension": ".py",
   "mimetype": "text/x-python",
   "name": "python",
   "nbconvert_exporter": "python",
   "pygments_lexer": "ipython3",
   "version": "3.10.4"
  },
  "orig_nbformat": 4
 },
 "nbformat": 4,
 "nbformat_minor": 2
}
