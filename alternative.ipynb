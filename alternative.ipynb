{
 "cells": [
  {
   "cell_type": "code",
   "execution_count": 1,
   "metadata": {},
   "outputs": [],
   "source": [
    "# Импорт библиотек\n",
    "import pandas as pd\n",
    "import matplotlib.pyplot as plt\n",
    "import seaborn as sns\n",
    "from sklearn.preprocessing import MinMaxScaler\n",
    "from sklearn.preprocessing import StandardScaler\n",
    "from function.create_map_2 import create_map_2"
   ]
  },
  {
   "cell_type": "code",
   "execution_count": 2,
   "metadata": {},
   "outputs": [],
   "source": [
    "map_dict = {}\n",
    "for year in range(2015,2021):\n",
    "    read_str = 'data/summary_data/'+str(year)+'.csv'\n",
    "    data = pd.read_csv(read_str,index_col=0)\n",
    "    \n",
    "    scaler = StandardScaler()\n",
    "    X = data.drop(['Region'],axis=1)\n",
    "    scaler.fit(X)\n",
    "    Reg = pd.DataFrame(data['Region'])\n",
    "    col_names = X.columns\n",
    "    scaler_data = Reg.join(pd.DataFrame(scaler.transform(X),columns=col_names))\n",
    "    \n",
    "    scaler_data['Rating'] = scaler_data['poverty_percent'] + scaler_data['welfare_expense_share'] + (1-scaler_data['cash_income'])\\\n",
    "    + (scaler_data['gross_regional_product'].max() - scaler_data['gross_regional_product']) + (scaler_data['regional_production'].max() - scaler_data['regional_production'])\\\n",
    "            + (scaler_data['retail_turnover_per_capita'].max() - scaler_data['retail_turnover_per_capita'])\n",
    "    \n",
    "    sorted_scaler_data = scaler_data.sort_values(by='Rating',ascending=False)\n",
    "    \n",
    "    \n",
    "    llist1 = []\n",
    "    llist2 = []\n",
    "    for i in range(10):\n",
    "            llist1.append(sorted_scaler_data['Region'].iloc[i])\n",
    "            llist2.append(sorted_scaler_data['Region'].iloc[i+10])\n",
    "    map_dict[year] = create_map_2(llist1,llist2)"
   ]
  },
  {
   "cell_type": "code",
   "execution_count": 3,
   "metadata": {},
   "outputs": [
    {
     "name": "stdout",
     "output_type": "stream",
     "text": [
      "Кластеры регионов, наиболее остро нуждающихся в помощи малообеспеченным за 2015 г.\n"
     ]
    },
    {
     "data": {
      "application/vnd.jupyter.widget-view+json": {
       "model_id": "21f42206996d4d66a6c18833cd28cf83",
       "version_major": 2,
       "version_minor": 0
      },
      "text/plain": [
       "Map(center=[66.25, 94.15], controls=(ZoomControl(options=['position', 'zoom_in_text', 'zoom_in_title', 'zoom_o…"
      ]
     },
     "metadata": {},
     "output_type": "display_data"
    },
    {
     "name": "stdout",
     "output_type": "stream",
     "text": [
      "Кластеры регионов, наиболее остро нуждающихся в помощи малообеспеченным за 2016 г.\n"
     ]
    },
    {
     "data": {
      "application/vnd.jupyter.widget-view+json": {
       "model_id": "2c8f2fb0072342748f4c151d6cfe64ce",
       "version_major": 2,
       "version_minor": 0
      },
      "text/plain": [
       "Map(center=[66.25, 94.15], controls=(ZoomControl(options=['position', 'zoom_in_text', 'zoom_in_title', 'zoom_o…"
      ]
     },
     "metadata": {},
     "output_type": "display_data"
    },
    {
     "name": "stdout",
     "output_type": "stream",
     "text": [
      "Кластеры регионов, наиболее остро нуждающихся в помощи малообеспеченным за 2017 г.\n"
     ]
    },
    {
     "data": {
      "application/vnd.jupyter.widget-view+json": {
       "model_id": "dd5fbb8cea694f12a92243ac500ca96d",
       "version_major": 2,
       "version_minor": 0
      },
      "text/plain": [
       "Map(center=[66.25, 94.15], controls=(ZoomControl(options=['position', 'zoom_in_text', 'zoom_in_title', 'zoom_o…"
      ]
     },
     "metadata": {},
     "output_type": "display_data"
    },
    {
     "name": "stdout",
     "output_type": "stream",
     "text": [
      "Кластеры регионов, наиболее остро нуждающихся в помощи малообеспеченным за 2018 г.\n"
     ]
    },
    {
     "data": {
      "application/vnd.jupyter.widget-view+json": {
       "model_id": "10166cdedf374ae6a641f89c9dfaec5d",
       "version_major": 2,
       "version_minor": 0
      },
      "text/plain": [
       "Map(center=[66.25, 94.15], controls=(ZoomControl(options=['position', 'zoom_in_text', 'zoom_in_title', 'zoom_o…"
      ]
     },
     "metadata": {},
     "output_type": "display_data"
    },
    {
     "name": "stdout",
     "output_type": "stream",
     "text": [
      "Кластеры регионов, наиболее остро нуждающихся в помощи малообеспеченным за 2019 г.\n"
     ]
    },
    {
     "data": {
      "application/vnd.jupyter.widget-view+json": {
       "model_id": "7238240074b1498fa81fa11235cabe5c",
       "version_major": 2,
       "version_minor": 0
      },
      "text/plain": [
       "Map(center=[66.25, 94.15], controls=(ZoomControl(options=['position', 'zoom_in_text', 'zoom_in_title', 'zoom_o…"
      ]
     },
     "metadata": {},
     "output_type": "display_data"
    },
    {
     "name": "stdout",
     "output_type": "stream",
     "text": [
      "Кластеры регионов, наиболее остро нуждающихся в помощи малообеспеченным за 2020 г.\n"
     ]
    },
    {
     "data": {
      "application/vnd.jupyter.widget-view+json": {
       "model_id": "fe73f0915fdc472a979523c788c6fbd1",
       "version_major": 2,
       "version_minor": 0
      },
      "text/plain": [
       "Map(center=[66.25, 94.15], controls=(ZoomControl(options=['position', 'zoom_in_text', 'zoom_in_title', 'zoom_o…"
      ]
     },
     "metadata": {},
     "output_type": "display_data"
    }
   ],
   "source": [
    "for k,v in map_dict.items():\n",
    "    print(f'Кластеры регионов, наиболее остро нуждающихся в помощи малообеспеченным за {k} г.')\n",
    "    display(v)"
   ]
  }
 ],
 "metadata": {
  "kernelspec": {
   "display_name": "Python 3",
   "language": "python",
   "name": "python3"
  },
  "language_info": {
   "codemirror_mode": {
    "name": "ipython",
    "version": 3
   },
   "file_extension": ".py",
   "mimetype": "text/x-python",
   "name": "python",
   "nbconvert_exporter": "python",
   "pygments_lexer": "ipython3",
   "version": "3.10.4"
  },
  "orig_nbformat": 4
 },
 "nbformat": 4,
 "nbformat_minor": 2
}
