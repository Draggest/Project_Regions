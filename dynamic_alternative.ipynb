{
 "cells": [
  {
   "cell_type": "code",
   "execution_count": 1,
   "metadata": {},
   "outputs": [],
   "source": [
    "# Импорт библиотек\n",
    "import pandas as pd\n",
    "import matplotlib.pyplot as plt\n",
    "import seaborn as sns\n",
    "from sklearn.preprocessing import MinMaxScaler\n",
    "from sklearn.preprocessing import StandardScaler\n",
    "from function.create_map_2 import create_map_2"
   ]
  },
  {
   "cell_type": "code",
   "execution_count": 2,
   "metadata": {},
   "outputs": [],
   "source": [
    "map_dict = {}\n",
    "for year in range(2016,2021):\n",
    "    read_str_pre = 'data/summary_data/'+str(year-1)+'.csv'\n",
    "    data_pre = pd.read_csv(read_str_pre,index_col=0)\n",
    "    \n",
    "    read_str = 'data/summary_data/'+str(year)+'.csv'\n",
    "    data = pd.read_csv(read_str,index_col=0)\n",
    "    \n",
    "    dynamic_data = pd.DataFrame(data['Region'])\n",
    "    dynamic_data = dynamic_data.reset_index()\n",
    "    dynamic_data.drop('index',axis=1,inplace=True)\n",
    "    \n",
    "    for el in data.columns[1:]:\n",
    "        dynamic_data[el] = data[el] - data_pre[el]\n",
    "    \n",
    "    scaler = StandardScaler()\n",
    "    X = dynamic_data.drop(['Region'],axis=1)\n",
    "    scaler.fit(X)\n",
    "    Reg = pd.DataFrame(dynamic_data['Region'])\n",
    "    col_names = X.columns\n",
    "    scaler_data = Reg.join(pd.DataFrame(scaler.transform(X),columns=col_names))\n",
    "    \n",
    "    scaler_data['Rating'] = scaler_data['poverty_percent'] + scaler_data['welfare_expense_share'] + (scaler_data['cash_income'].max() - scaler_data['cash_income'])\\\n",
    "    + (1-scaler_data['gross_regional_product']) + (scaler_data['regional_production'].max() - scaler_data['regional_production']) + (scaler_data['retail_turnover_per_capita'].max() - scaler_data['retail_turnover_per_capita'])\n",
    "    \n",
    "    sorted_scaler_data = scaler_data.sort_values(by='Rating',ascending=False)\n",
    "    \n",
    "    \n",
    "    llist1 = []\n",
    "    llist2 = []\n",
    "    for i in range(10):\n",
    "            llist1.append(sorted_scaler_data['Region'].iloc[i])\n",
    "            llist2.append(sorted_scaler_data['Region'].iloc[i+10])\n",
    "    map_dict[year] = create_map_2(llist1,llist2)"
   ]
  },
  {
   "cell_type": "code",
   "execution_count": 3,
   "metadata": {},
   "outputs": [
    {
     "name": "stdout",
     "output_type": "stream",
     "text": [
      "Кластеры регионов, показывающие худшую динамику изменения признаков за 2015 - 2016 гг.\n"
     ]
    },
    {
     "data": {
      "application/vnd.jupyter.widget-view+json": {
       "model_id": "1123f1ea5d994b3788a07d4063794d73",
       "version_major": 2,
       "version_minor": 0
      },
      "text/plain": [
       "Map(center=[66.25, 94.15], controls=(ZoomControl(options=['position', 'zoom_in_text', 'zoom_in_title', 'zoom_o…"
      ]
     },
     "metadata": {},
     "output_type": "display_data"
    },
    {
     "name": "stdout",
     "output_type": "stream",
     "text": [
      "Кластеры регионов, показывающие худшую динамику изменения признаков за 2016 - 2017 гг.\n"
     ]
    },
    {
     "data": {
      "application/vnd.jupyter.widget-view+json": {
       "model_id": "de6a56d4f8a84b6184df50b4b5da9336",
       "version_major": 2,
       "version_minor": 0
      },
      "text/plain": [
       "Map(center=[66.25, 94.15], controls=(ZoomControl(options=['position', 'zoom_in_text', 'zoom_in_title', 'zoom_o…"
      ]
     },
     "metadata": {},
     "output_type": "display_data"
    },
    {
     "name": "stdout",
     "output_type": "stream",
     "text": [
      "Кластеры регионов, показывающие худшую динамику изменения признаков за 2017 - 2018 гг.\n"
     ]
    },
    {
     "data": {
      "application/vnd.jupyter.widget-view+json": {
       "model_id": "72ad1f497d9c4b049d95303983a4e8a8",
       "version_major": 2,
       "version_minor": 0
      },
      "text/plain": [
       "Map(center=[66.25, 94.15], controls=(ZoomControl(options=['position', 'zoom_in_text', 'zoom_in_title', 'zoom_o…"
      ]
     },
     "metadata": {},
     "output_type": "display_data"
    },
    {
     "name": "stdout",
     "output_type": "stream",
     "text": [
      "Кластеры регионов, показывающие худшую динамику изменения признаков за 2018 - 2019 гг.\n"
     ]
    },
    {
     "data": {
      "application/vnd.jupyter.widget-view+json": {
       "model_id": "c14dd6f3aecf409289b6f4df7c7de12f",
       "version_major": 2,
       "version_minor": 0
      },
      "text/plain": [
       "Map(center=[66.25, 94.15], controls=(ZoomControl(options=['position', 'zoom_in_text', 'zoom_in_title', 'zoom_o…"
      ]
     },
     "metadata": {},
     "output_type": "display_data"
    },
    {
     "name": "stdout",
     "output_type": "stream",
     "text": [
      "Кластеры регионов, показывающие худшую динамику изменения признаков за 2019 - 2020 гг.\n"
     ]
    },
    {
     "data": {
      "application/vnd.jupyter.widget-view+json": {
       "model_id": "5386e7868be7479dada091f570ddb026",
       "version_major": 2,
       "version_minor": 0
      },
      "text/plain": [
       "Map(center=[66.25, 94.15], controls=(ZoomControl(options=['position', 'zoom_in_text', 'zoom_in_title', 'zoom_o…"
      ]
     },
     "metadata": {},
     "output_type": "display_data"
    }
   ],
   "source": [
    "for k,v in map_dict.items():\n",
    "    print(f'Кластеры регионов, показывающие худшую динамику изменения признаков за {k-1} - {k} гг.')\n",
    "    display(v)"
   ]
  }
 ],
 "metadata": {
  "kernelspec": {
   "display_name": "Python 3",
   "language": "python",
   "name": "python3"
  },
  "language_info": {
   "codemirror_mode": {
    "name": "ipython",
    "version": 3
   },
   "file_extension": ".py",
   "mimetype": "text/x-python",
   "name": "python",
   "nbconvert_exporter": "python",
   "pygments_lexer": "ipython3",
   "version": "3.10.4"
  },
  "orig_nbformat": 4
 },
 "nbformat": 4,
 "nbformat_minor": 2
}
